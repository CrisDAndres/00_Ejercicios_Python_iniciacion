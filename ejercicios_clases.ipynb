{
 "cells": [
  {
   "cell_type": "markdown",
   "metadata": {},
   "source": [
    "# Ejercicio clases (I)\n",
    "Realizar un programa que conste de una clase llamada Alumno que tenga como atributos el nombre y la(s) nota(s) del alumno en una lista. Definir los métodos para inicializar sus atributos, imprimirlos y mostrar un mensaje con el resultado de la nota y si ha aprobado o no.\n",
    "\n",
    "*Indicaciones: Para inicializar la clase, directamente podemos introducir la media de las notas:*"
   ]
  },
  {
   "cell_type": "code",
   "execution_count": null,
   "metadata": {},
   "outputs": [],
   "source": [
    "# inicializamos la clase\n",
    "class Alumno:\n",
    "    # inicializamos los atributos\n",
    "    def __init__(self,nombre,notas):\n",
    "        self.nombre=nombre\n",
    "        self.nota_media=sum(notas)*1.0/len(notas) # Se multiplica por 1.0 para convertir el número int en float"
   ]
  },
  {
   "cell_type": "markdown",
   "metadata": {},
   "source": [
    "*Tras este paso, habrá que incluir en la clase un par de métodos para imprimir parámetros y mostrar el resultado de la evaluación. Expendiendo esta sección, encontrarás la solución del problema, intenta antes hacerlo por ti mismo y comparar los resultados.*"
   ]
  },
  {
   "cell_type": "code",
   "execution_count": null,
   "metadata": {},
   "outputs": [
    {
     "ename": "",
     "evalue": "",
     "output_type": "error",
     "traceback": [
      "\u001b[1;31mRunning cells with 'c:\\Users\\kina5\\AppData\\Local\\Programs\\Python\\Python310\\python.exe' requires the ipykernel package.\n",
      "\u001b[1;31mRun the following command to install 'ipykernel' into the Python environment. \n",
      "\u001b[1;31mCommand: 'c:/Users/kina5/AppData/Local/Programs/Python/Python310/python.exe -m pip install ipykernel -U --user --force-reinstall'"
     ]
    }
   ],
   "source": [
    "\n",
    "\n",
    "class Estudiante:\n",
    "    # Función de inicio\n",
    "    def __init__(self, nombre, edad, curso): # Self que significa la clase, lo demás son atributos\n",
    "        self.nombre = nombre\n",
    "        self.edad = edad\n",
    "        self.curso = curso\n",
    "    # Segunda función, hereda de la primera    \n",
    "    def estudiar(self):\n",
    "        return f'{self.nombre} está estudiando {self.curso}'\n",
    "    \n",
    "    # Tercera función, hereda de la primera\n",
    "    def cambiar_curso(self, nuevo curso):\n",
    "        self.curso = nuevo_curso\n",
    "        return f'{self.nombre} ha cambiado a {self.curso}'"
   ]
  }
 ],
 "metadata": {
  "kernelspec": {
   "display_name": "Python 3",
   "language": "python",
   "name": "python3"
  },
  "language_info": {
   "name": "python",
   "version": "3.10.10"
  }
 },
 "nbformat": 4,
 "nbformat_minor": 2
}
